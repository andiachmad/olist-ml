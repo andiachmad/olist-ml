{
 "cells": [
  {
   "cell_type": "code",
   "execution_count": 2,
   "id": "3191cc35",
   "metadata": {},
   "outputs": [],
   "source": [
    "import pandas as pd\n",
    "import numpy as np"
   ]
  },
  {
   "cell_type": "markdown",
   "id": "2cc26231",
   "metadata": {},
   "source": [
    "### Declare Dataset"
   ]
  },
  {
   "cell_type": "code",
   "execution_count": 3,
   "id": "d05f135b",
   "metadata": {},
   "outputs": [],
   "source": [
    "df = pd.read_csv(\"F:/Portofolio/Olist-Ml/dataset/raw/mart_sales_performance.csv\")"
   ]
  },
  {
   "cell_type": "code",
   "execution_count": 4,
   "id": "351dd39d",
   "metadata": {},
   "outputs": [
    {
     "data": {
      "text/html": [
       "<div>\n",
       "<style scoped>\n",
       "    .dataframe tbody tr th:only-of-type {\n",
       "        vertical-align: middle;\n",
       "    }\n",
       "\n",
       "    .dataframe tbody tr th {\n",
       "        vertical-align: top;\n",
       "    }\n",
       "\n",
       "    .dataframe thead th {\n",
       "        text-align: right;\n",
       "    }\n",
       "</style>\n",
       "<table border=\"1\" class=\"dataframe\">\n",
       "  <thead>\n",
       "    <tr style=\"text-align: right;\">\n",
       "      <th></th>\n",
       "      <th>product_category_name</th>\n",
       "      <th>seller_id</th>\n",
       "      <th>seller_state</th>\n",
       "      <th>seller_city</th>\n",
       "      <th>week_start</th>\n",
       "      <th>total_orders</th>\n",
       "      <th>total_items</th>\n",
       "      <th>total_sales</th>\n",
       "      <th>avg_order_value</th>\n",
       "    </tr>\n",
       "  </thead>\n",
       "  <tbody>\n",
       "    <tr>\n",
       "      <th>0</th>\n",
       "      <td>moveis_decoracao</td>\n",
       "      <td>1554a68530182680ad5c8b042c3ab563</td>\n",
       "      <td>MG</td>\n",
       "      <td>monte siao</td>\n",
       "      <td>2016-08-29 00:00:00.000</td>\n",
       "      <td>1</td>\n",
       "      <td>2</td>\n",
       "      <td>136.23</td>\n",
       "      <td>68.115</td>\n",
       "    </tr>\n",
       "    <tr>\n",
       "      <th>1</th>\n",
       "      <td>telefonia</td>\n",
       "      <td>a425f92c199eb576938df686728acd20</td>\n",
       "      <td>PR</td>\n",
       "      <td>curitiba</td>\n",
       "      <td>2016-09-05 00:00:00.000</td>\n",
       "      <td>1</td>\n",
       "      <td>1</td>\n",
       "      <td>75.06</td>\n",
       "      <td>75.060</td>\n",
       "    </tr>\n",
       "    <tr>\n",
       "      <th>2</th>\n",
       "      <td>beleza_saude</td>\n",
       "      <td>ecccfa2bb93b34a3bf033cc5d1dcdc69</td>\n",
       "      <td>PR</td>\n",
       "      <td>curitiba</td>\n",
       "      <td>2016-09-12 00:00:00.000</td>\n",
       "      <td>1</td>\n",
       "      <td>3</td>\n",
       "      <td>143.46</td>\n",
       "      <td>47.820</td>\n",
       "    </tr>\n",
       "    <tr>\n",
       "      <th>3</th>\n",
       "      <td>bebes</td>\n",
       "      <td>25e6ffe976bd75618accfe16cefcbd0d</td>\n",
       "      <td>SP</td>\n",
       "      <td>sao paulo</td>\n",
       "      <td>2016-09-26 00:00:00.000</td>\n",
       "      <td>1</td>\n",
       "      <td>1</td>\n",
       "      <td>109.34</td>\n",
       "      <td>109.340</td>\n",
       "    </tr>\n",
       "    <tr>\n",
       "      <th>4</th>\n",
       "      <td>livros_tecnicos</td>\n",
       "      <td>4be2e7f96b4fd749d52dff41f80e39dd</td>\n",
       "      <td>AC</td>\n",
       "      <td>rio branco</td>\n",
       "      <td>2016-10-03 00:00:00.000</td>\n",
       "      <td>1</td>\n",
       "      <td>1</td>\n",
       "      <td>299.84</td>\n",
       "      <td>299.840</td>\n",
       "    </tr>\n",
       "  </tbody>\n",
       "</table>\n",
       "</div>"
      ],
      "text/plain": [
       "  product_category_name                         seller_id seller_state  \\\n",
       "0      moveis_decoracao  1554a68530182680ad5c8b042c3ab563           MG   \n",
       "1             telefonia  a425f92c199eb576938df686728acd20           PR   \n",
       "2          beleza_saude  ecccfa2bb93b34a3bf033cc5d1dcdc69           PR   \n",
       "3                 bebes  25e6ffe976bd75618accfe16cefcbd0d           SP   \n",
       "4       livros_tecnicos  4be2e7f96b4fd749d52dff41f80e39dd           AC   \n",
       "\n",
       "  seller_city               week_start  total_orders  total_items  \\\n",
       "0  monte siao  2016-08-29 00:00:00.000             1            2   \n",
       "1    curitiba  2016-09-05 00:00:00.000             1            1   \n",
       "2    curitiba  2016-09-12 00:00:00.000             1            3   \n",
       "3   sao paulo  2016-09-26 00:00:00.000             1            1   \n",
       "4  rio branco  2016-10-03 00:00:00.000             1            1   \n",
       "\n",
       "   total_sales  avg_order_value  \n",
       "0       136.23           68.115  \n",
       "1        75.06           75.060  \n",
       "2       143.46           47.820  \n",
       "3       109.34          109.340  \n",
       "4       299.84          299.840  "
      ]
     },
     "execution_count": 4,
     "metadata": {},
     "output_type": "execute_result"
    }
   ],
   "source": [
    "df.head(5)"
   ]
  },
  {
   "cell_type": "code",
   "execution_count": 5,
   "id": "86738cea",
   "metadata": {},
   "outputs": [
    {
     "name": "stdout",
     "output_type": "stream",
     "text": [
      "<class 'pandas.core.frame.DataFrame'>\n",
      "RangeIndex: 45733 entries, 0 to 45732\n",
      "Data columns (total 9 columns):\n",
      " #   Column                 Non-Null Count  Dtype  \n",
      "---  ------                 --------------  -----  \n",
      " 0   product_category_name  45733 non-null  object \n",
      " 1   seller_id              45733 non-null  object \n",
      " 2   seller_state           45733 non-null  object \n",
      " 3   seller_city            45733 non-null  object \n",
      " 4   week_start             45733 non-null  object \n",
      " 5   total_orders           45733 non-null  int64  \n",
      " 6   total_items            45733 non-null  int64  \n",
      " 7   total_sales            45733 non-null  float64\n",
      " 8   avg_order_value        45733 non-null  float64\n",
      "dtypes: float64(2), int64(2), object(5)\n",
      "memory usage: 3.1+ MB\n"
     ]
    }
   ],
   "source": [
    "df.info()"
   ]
  },
  {
   "cell_type": "markdown",
   "id": "cb570ef5",
   "metadata": {},
   "source": [
    "### Preprocessing Stage"
   ]
  },
  {
   "cell_type": "markdown",
   "id": "3ae958b3",
   "metadata": {},
   "source": [
    "#### Switching Dtype"
   ]
  },
  {
   "cell_type": "code",
   "execution_count": 6,
   "id": "c526e974",
   "metadata": {},
   "outputs": [],
   "source": [
    "df[\"week_start\"] = pd.to_datetime(df[\"week_start\"])"
   ]
  },
  {
   "cell_type": "code",
   "execution_count": 7,
   "id": "48737a08",
   "metadata": {},
   "outputs": [
    {
     "name": "stdout",
     "output_type": "stream",
     "text": [
      "<class 'pandas.core.frame.DataFrame'>\n",
      "RangeIndex: 45733 entries, 0 to 45732\n",
      "Data columns (total 9 columns):\n",
      " #   Column                 Non-Null Count  Dtype         \n",
      "---  ------                 --------------  -----         \n",
      " 0   product_category_name  45733 non-null  object        \n",
      " 1   seller_id              45733 non-null  object        \n",
      " 2   seller_state           45733 non-null  object        \n",
      " 3   seller_city            45733 non-null  object        \n",
      " 4   week_start             45733 non-null  datetime64[ns]\n",
      " 5   total_orders           45733 non-null  int64         \n",
      " 6   total_items            45733 non-null  int64         \n",
      " 7   total_sales            45733 non-null  float64       \n",
      " 8   avg_order_value        45733 non-null  float64       \n",
      "dtypes: datetime64[ns](1), float64(2), int64(2), object(4)\n",
      "memory usage: 3.1+ MB\n"
     ]
    }
   ],
   "source": [
    "df.info()"
   ]
  },
  {
   "cell_type": "code",
   "execution_count": 8,
   "id": "69b83363",
   "metadata": {},
   "outputs": [
    {
     "name": "stdout",
     "output_type": "stream",
     "text": [
      "0       2016-08-29\n",
      "1       2016-09-05\n",
      "2       2016-09-12\n",
      "3       2016-09-26\n",
      "4       2016-10-03\n",
      "           ...    \n",
      "45728   2018-08-27\n",
      "45729   2018-08-27\n",
      "45730   2018-08-27\n",
      "45731   2018-08-27\n",
      "45732   2018-09-03\n",
      "Name: week_start, Length: 45733, dtype: datetime64[ns]\n"
     ]
    }
   ],
   "source": [
    "print(df[\"week_start\"])"
   ]
  },
  {
   "cell_type": "markdown",
   "id": "301210c0",
   "metadata": {},
   "source": [
    "#### Duplicated Data"
   ]
  },
  {
   "cell_type": "code",
   "execution_count": 9,
   "id": "d143db5b",
   "metadata": {},
   "outputs": [
    {
     "data": {
      "text/plain": [
       "0"
      ]
     },
     "execution_count": 9,
     "metadata": {},
     "output_type": "execute_result"
    }
   ],
   "source": [
    "df.duplicated().sum()"
   ]
  },
  {
   "cell_type": "markdown",
   "id": "ad3143ba",
   "metadata": {},
   "source": [
    "#### NULL Data"
   ]
  },
  {
   "cell_type": "code",
   "execution_count": 10,
   "id": "ae2274b4",
   "metadata": {},
   "outputs": [
    {
     "data": {
      "text/plain": [
       "product_category_name    0\n",
       "seller_id                0\n",
       "seller_state             0\n",
       "seller_city              0\n",
       "week_start               0\n",
       "total_orders             0\n",
       "total_items              0\n",
       "total_sales              0\n",
       "avg_order_value          0\n",
       "dtype: int64"
      ]
     },
     "execution_count": 10,
     "metadata": {},
     "output_type": "execute_result"
    }
   ],
   "source": [
    "df.isnull().sum()"
   ]
  },
  {
   "cell_type": "markdown",
   "id": "064ff580",
   "metadata": {},
   "source": [
    "#### Data Consistency Check"
   ]
  },
  {
   "cell_type": "code",
   "execution_count": 11,
   "id": "355322b3",
   "metadata": {},
   "outputs": [
    {
     "name": "stdout",
     "output_type": "stream",
     "text": [
      "product_category_name : ['moveis_decoracao' 'telefonia' 'beleza_saude' 'bebes' 'livros_tecnicos'\n",
      " 'informatica_acessorios' 'cool_stuff' 'ferramentas_jardim' 'market_place'\n",
      " 'cama_mesa_banho' 'climatizacao' 'telefonia_fixa' 'automotivo'\n",
      " 'brinquedos' 'fashion_bolsas_e_acessorios' 'utilidades_domesticas'\n",
      " 'consoles_games' 'relogios_presentes' 'esporte_lazer'\n",
      " 'livros_interesse_geral' 'perfumaria' 'pet_shop' 'eletronicos' 'Unknown'\n",
      " 'moveis_escritorio' 'fashion_calcados' 'audio' 'fashion_roupa_feminina'\n",
      " 'fashion_roupa_masculina' 'fraldas_higiene'\n",
      " 'industria_comercio_e_negocios' 'alimentos' 'moveis_quarto' 'musica'\n",
      " 'papelaria' 'eletroportateis' 'eletrodomesticos_2'\n",
      " 'fashion_underwear_e_moda_praia' 'malas_acessorios' 'moveis_sala'\n",
      " 'moveis_cozinha_area_de_servico_jantar_e_jardim' 'instrumentos_musicais'\n",
      " 'casa_conforto_2' 'seguros_e_servicos' 'agro_industria_e_comercio'\n",
      " 'dvds_blu_ray' 'pcs' 'casa_conforto' 'construcao_ferramentas_construcao'\n",
      " 'tablets_impressao_imagem' 'construcao_ferramentas_jardim'\n",
      " 'casa_construcao' 'eletrodomesticos' 'construcao_ferramentas_seguranca'\n",
      " 'cine_foto' 'livros_importados' 'bebidas' 'artes' 'alimentos_bebidas'\n",
      " 'fashion_esporte' 'sinalizacao_e_seguranca' 'la_cuisine'\n",
      " 'construcao_ferramentas_ferramentas' 'pc_gamer'\n",
      " 'moveis_colchao_e_estofado' 'artigos_de_natal' 'artes_e_artesanato'\n",
      " 'fashion_roupa_infanto_juvenil' 'portateis_casa_forno_e_cafe'\n",
      " 'cds_dvds_musicais' 'artigos_de_festas'\n",
      " 'construcao_ferramentas_iluminacao' 'flores'\n",
      " 'portateis_cozinha_e_preparadores_de_alimentos']\n"
     ]
    }
   ],
   "source": [
    "for col in [\"product_category_name\"]:\n",
    "    print(col, \":\", df[col].unique())"
   ]
  },
  {
   "cell_type": "code",
   "execution_count": 12,
   "id": "3a217b5e",
   "metadata": {},
   "outputs": [
    {
     "name": "stdout",
     "output_type": "stream",
     "text": [
      "seller_state : ['MG' 'PR' 'SP' 'AC' 'BA' 'CE' 'DF' 'ES' 'MS' 'RJ' 'RS' 'SC' 'PE' 'AM'\n",
      " 'GO' 'PB' 'SE' 'RN' 'RO' 'MT' 'PA' 'PI' 'MA']\n"
     ]
    }
   ],
   "source": [
    "for col in [\"seller_state\"]:\n",
    "    print(col, \":\", df[col].unique())"
   ]
  },
  {
   "cell_type": "code",
   "execution_count": 13,
   "id": "34eb8ce1",
   "metadata": {},
   "outputs": [
    {
     "name": "stdout",
     "output_type": "stream",
     "text": [
      "seller_city : ['monte siao' 'curitiba' 'sao paulo' 'rio branco' 'ilheus' 'eusebio'\n",
      " 'brasilia' 'afonso claudio' 'serra' 'araguari' 'belo horizonte'\n",
      " 'divinopolis' 'sete lagoas' 'tres coracoes' 'uba' 'campo grande'\n",
      " 'cascavel' 'entre rios do oeste' 'foz do iguacu' 'francisco beltrao'\n",
      " 'loanda' 'londrina' 'rolandia' 'mage' 'niteroi' 'petropolis'\n",
      " 'rio de janeiro' 'saquarema' 'bage' 'carazinho' 'santo angelo'\n",
      " 'santo antonio da patrulha' 'sao leopoldo' 'blumenau' 'canoinhas' 'icara'\n",
      " 'joinville' 'timbo' 'tubarao' 'barretos' 'barueri' 'bauru'\n",
      " 'bom jesus dos perdoes' 'braganca paulista' 'campinas' 'capivari'\n",
      " 'catanduva' 'descalvado' 'echapora' 'franca' 'guaratingueta' 'guarulhos'\n",
      " 'ibitinga' 'igaracu do tiete' 'indaiatuba' 'itaquaquecetuba' 'limeira'\n",
      " 'marilia' 'mogi das cruzes' 'mogi guacu' 'osasco' 'pedreira' 'pompeia'\n",
      " 'porto ferreira' 'ribeirao preto' 'santa maria da serra' 'santos'\n",
      " 'sao caetano do sul' 'sao jose do rio pardo' 'sao jose do rio preto'\n",
      " 'sorocaba' 'suzano' 'tiete' 'votuporanga' 'pinhais' 'caxias do sul'\n",
      " 'itajobi' 'jacarei' 'registro' 'santo andre' 'sumare' 'salvador'\n",
      " 'ribeirao das neves' 'cornelio procopio' 'cerqueira cesar'\n",
      " \"santa barbara d'oeste\" 'patos de minas' 'maringa' 'cachoeirinha'\n",
      " 'porto alegre' 'jaragua do sul' 'rio do sul' 'assis' 'bariri' 'bertioga'\n",
      " 'louveira' 'sao bernardo do campo' 'caucaia' 'araxa' 'claudio'\n",
      " 'jacutinga' 'santa rita do sapucai' 'timoteo' 'uberlandia' 'varginha'\n",
      " 'recife' 'colombo' 'paranavai' 'pato branco' 'sao jose dos pinhais'\n",
      " 'umuarama' 'lajeado' 'rolante' 'ararangua' 'palhoca' 'araras'\n",
      " 'bady bassitt' 'fernandopolis' 'mairipora' 'piracicaba'\n",
      " 'presidente bernardes' 's jose do rio preto' 'salto'\n",
      " 'santa barbara d´oeste' 'sao jose dos campos' 'tupa' 'manaus'\n",
      " \"arraial d'ajuda (porto seguro)\" 'fortaleza' 'cariacica' 'goiania'\n",
      " 'andradas' 'arinos' 'itauna' 'uberaba' 'vicosa' 'serra redonda' 'brejao'\n",
      " 'arapongas' 'fazenda rio grande' 'itaborai' 'farroupilha' 'horizontina'\n",
      " 'navegantes' 'rodeio' 'neopolis' 'aguas claras df' 'americana' 'atibaia'\n",
      " 'cafelandia' 'cananeia' 'holambra' 'jaboticabal' 'maua' 'pinhalzinho'\n",
      " 'sao roque' 'serra negra' 'votorantim' 'mucambo' 'ibia' 'marialva'\n",
      " 'pelotas' 'videira' 'aracatuba' 'araraquara' 'artur nogueira' 'cotia'\n",
      " 'itatiba' 'praia grande' 'rio claro' 'santana de parnaiba'\n",
      " 'taboao da serra' 'cachoeiro de itapemirim' 'ilicinea' 'juiz de fora'\n",
      " 'toledo' 'belford roxo' 'santa cruz do sul' 'florianopolis' 'lages'\n",
      " 'sao jose' 'sao ludgero' 'jundiai' 'lencois paulista'\n",
      " 'presidente prudente' 'riberao preto' 'lagoa da prata' 'montes claros'\n",
      " 'castro' 'ponta grossa' 'nilopolis' 'viamao' 'concordia' 'curitibanos'\n",
      " 'sombrio' 'conchal' 'valinhos' 'congonhas' 'ipatinga' 'guarapuava'\n",
      " 'paincandu' 'campo limpo paulista' 'laranjal paulista' 'ubatuba'\n",
      " 'aparecida de goiania' 'betim' 'joao pessoa' 'santa terezinha de itaipu'\n",
      " 'canoas' 'montenegro' 'alvares machado' 'guariba' 'itapevi' 'penapolis'\n",
      " 'vila velha' 'luziania' 'caratinga' 'congonhal' 'pocos de caldas'\n",
      " 'andira-pr' 'itaipulandia' 'birigui' 'mogi das cruzes / sp' 'tabatinga'\n",
      " 'volta redonda' 'carmo do cajuru' 'divisa nova' 'guiricema' 'araucaria'\n",
      " 'vendas@creditparts.com.br' 'campina das missoes' 'cosmopolis' 'itajai'\n",
      " 'jaguariuna' 'poa' 'tanabi' 'duque de caxias' 'rio bonito' 'amparo'\n",
      " 'guara' 'taubate' 'borda da mata' 'sao joao del rei' 'pitanga'\n",
      " 'nova iguacu' 'venancio aires' 'ferraz de vasconcelos' 'contagem'\n",
      " 'tiradentes' 'apucarana' 'colorado' 'nova friburgo'\n",
      " 'sao francisco do sul' 'itapecerica da serra' 'sp' 'ponte nova'\n",
      " 'sao carlos' 'sertanopolis' 'fronteira' 'campo largo' 'mandaguari'\n",
      " 'natal' 'parnamirim' 'porto velho' 'garopaba' 'jaguaruna' 'aruja' 'jau'\n",
      " 'pirituba' 'sao pauo' 'aperibe' 'cordeiropolis' 'guaruja' 'itapetininga'\n",
      " 'mairinque' 'morrinhos' 'barra mansa' 'santo antonio de padua'\n",
      " 'sao goncalo' 'batatais' 'carapicuiba' 'laranjeiras do sul' 'marapoama'\n",
      " 'monteiro lobato' 'eunapolis' 'formiga' 'novo hamburgo' 'paraiso do sul'\n",
      " 'brotas' 'ribeirao pires' 'scao jose do rio pardo' 'joao pinheiro'\n",
      " 'almirante tamandare' 'tres rios' 'cuiaba' 'tres de maio' 'tocantins'\n",
      " 'erechim' 'macatuba' 'balneario camboriu' 'boituva' 'pederneiras'\n",
      " 'santo antonio de posse' 'vargem grande do sul' 'xanxere' 'leme' 'mococa'\n",
      " 'abadia de goias' 'mamanguape' 'presidente getulio' 'pato bragado'\n",
      " 'sarandi' 'brusque' 'garuva' 'dracena' 'ipaussu' 'jales' 'baependi'\n",
      " 'ouro preto' 'sinop' 'campo mourao' 'mesquita' 'aparecida'\n",
      " 'coronel fabriciano' 'imbituba' 'bebedouro' 'sao joaquim da barra'\n",
      " 'mateus leme' 'cascavael' 'armacao dos buzios' 'ji parana' 'botucatu'\n",
      " 'francisco morato' 'sao paulo - sp' 'gama' 'uruacu' 'macae'\n",
      " 'braco do norte' 'itu' 'serrana' 'camanducaia' 'ampere' 'medianeira'\n",
      " '04482255' 'caieiras' 'lauro de freitas' 'cambe' 'criciuma' 'paulinia'\n",
      " 'barro alto' 'joao monlevade' 'caruaru' 'buritama' 'diadema' 'tatui'\n",
      " 'centro' 'dores de campos' 'marechal candido rondon' 'barrinha'\n",
      " 'pedregulho' 'pilar do sul' 'sao paulop' 'anapolis' 'cacador' 'xaxim'\n",
      " 'jaci' 'mirandopolis' 'sao bernardo do capo' 'alfenas' 'itau de minas'\n",
      " 'terra boa' 'teresopolis' 'mirassol' 'porto seguro' 'ouro fino'\n",
      " 'pedro leopoldo' 'bocaiuva do sul' 'california' 'laurentino' 'bofete'\n",
      " 'dois corregos' 'garca' 'nova lima' 'coxim' 'jussara' 'campos novos'\n",
      " 'cruzeiro' 'osvaldo cruz' 'pradopolis' 'brasilia df' 'muqui' 'igrejinha'\n",
      " 'tres coroas' 'cajamar' 'vicente de carvalho' 'vitoria' 'sapiranga'\n",
      " 'lages - sc' 'embu das artes' 'ribeirao pretp' 'sao jose do rio pret'\n",
      " 'bento goncalves' 'portao' 'miguelopolis' 'sao paluo' 'campanha'\n",
      " 'formosa do oeste' 'lorena' 'sao  paulo' 'vera cruz' 'arvorezinha'\n",
      " 'uruguaiana' 'bombinhas' 'aracaju' 'mineiros do tiete' 'pacatuba'\n",
      " 'marica' 'sao joao de meriti' 'imbe' 'paulo lopes' 'clementina'\n",
      " 'portoferreira' 'feira de santana' 'vespasiano' 'queimados'\n",
      " 'santa cecilia' 'mombuca' 'itabira' 'teixeira soares'\n",
      " 'presidente epitacio' 'tambau' 'balenario camboriu' 'embu guacu'\n",
      " 'santa rosa de viterbo' 'janauba' 'guaratuba' 'itapema'\n",
      " 'governador valadares' 'passos' 'teresina' 'jambeiro' 'socorro'\n",
      " 'flores da cunha' 'parai' \"sao miguel d'oeste\" 'laguna' 'monte alto'\n",
      " 'sao luis' 'prados' 'gaspar' 'alambari' 'olimpia' 'sao paulo sp'\n",
      " 'domingos martins' 'santa terezinha de goias' 'conselheiro lafaiete'\n",
      " 'sao miguel do oeste' 'chapeco' 'engenheiro coelho' 'carmo da mata'\n",
      " 'oliveira' 'imigrante' 'soledade' 'taio' 'mogi mirim' 'robeirao preto'\n",
      " 'araquari' 'piracanjuba' 'belo horizont' 'pouso alegre' 'luiz alves'\n",
      " 'jaragua' 'bonfinopolis de minas' 'sabara' 'taruma'\n",
      " 'vitoria de santo antao' 'sao bento do sul' 'pirassununga' 'extrema'\n",
      " 'massaranduba' 'tabao da serra' 'cachoeira do sul' 'campo bom'\n",
      " 'sao pedro' 'colatina' 'cataguases' 'ibirite' 'pinhalao' 'ipe' 'muriae'\n",
      " 'campo magro' 'sao jose dos pinhas' 'rio grande' 'garulhos' 'hortolandia'\n",
      " 'ipira' 'maua/sao paulo' 'novo horizonte' 'pedrinhas paulista'\n",
      " 'vargem grande paulista' 'japira' 'mandaguacu' 'condor'\n",
      " 'ao bernardo do campo' 'cravinhos' 'rio das pedras' 'sao sebastiao'\n",
      " 'parana' 'nova petropolis' 'torres' 'avare' 'ribeirao preto / sao paulo'\n",
      " 'irece' 'imbituva' 'indaial' 'campo do meio' 'lambari' 'uniao da vitoria'\n",
      " 'angra dos reis rj' 'estancia velha' 'barra velha' 'auriflama'\n",
      " 'itaporanga' 'jarinu' 'são paulo' 'sbc/sp' 'guanambi' 'castro pires'\n",
      " 'bandeirantes' 'floresta' 'campos dos goytacazes' 'vassouras'\n",
      " 'rio negrinho' 'treze tilias' 'jacarei / sao paulo'\n",
      " 'sao joao da boa vista' 'sp / sp' 'rio verde' 'lagoa santa'\n",
      " 'campina grande' 'ferraz de  vasconcelos' 'itirapina' 'ourinhos'\n",
      " 'formosa' 'sao pedro da aldeia' 'triunfo'\n",
      " 'novo hamburgo, rio grande do sul, brasil' 'santa rosa' 'goioere'\n",
      " 'santa barbara d oeste' 'cariacica / es' 'sao  jose dos pinhais'\n",
      " 'resende' 'orleans' 'porto belo' 'mogi das cruses' 'varzea paulista'\n",
      " 'barbacena' 'rio de janeiro \\\\rio de janeiro' 'santa catarina'\n",
      " 'santo andre/sao paulo' 'pitangueiras' 'bahia' 'varzea alegre'\n",
      " 'sao bento' 'palotina' 'rio de janeiro / rio de janeiro'\n",
      " 'carapicuiba / sao paulo' 'franco da rocha' 'nova odessa' 'mandirituba'\n",
      " 'paracambi' 'camboriu' 'rio do oeste' 'minas gerais' 'irati'\n",
      " 'angra dos reis' 'sando andre' 'barbacena/ minas gerais' 'jaciara'\n",
      " 'pinhais/pr' 'alvorada' 'floranopolis' 'nova trento' 'picarras' 'guaira'\n",
      " 'itapeva' 'cianorte' 'rio de janeiro, rio de janeiro, brasil'\n",
      " 'santa maria' 'nhandeara' 'sao sebastiao da grama/sp' 'guanhaes'\n",
      " 'paraiba do sul' 'messias targino' 'ivoti' 'fernando prestes'\n",
      " 'monte alegre do sul' 'orlandia' 'sao paulo / sao paulo'\n",
      " 'juzeiro do norte' 'auriflama/sp' 'ipua' 'viana' 'bom jardim'\n",
      " 'ronda alta' 'cordilheira alta' 'guaimbe' 'sao vicente' 'itapui' 'sbc']\n"
     ]
    }
   ],
   "source": [
    "for col in [\"seller_city\"]:\n",
    "    print(col, \":\", df[col].unique())"
   ]
  },
  {
   "cell_type": "markdown",
   "id": "6ad172e3",
   "metadata": {},
   "source": [
    "#### Business Logic"
   ]
  },
  {
   "cell_type": "code",
   "execution_count": null,
   "id": "9f80b944",
   "metadata": {},
   "outputs": [
    {
     "data": {
      "text/html": [
       "<div>\n",
       "<style scoped>\n",
       "    .dataframe tbody tr th:only-of-type {\n",
       "        vertical-align: middle;\n",
       "    }\n",
       "\n",
       "    .dataframe tbody tr th {\n",
       "        vertical-align: top;\n",
       "    }\n",
       "\n",
       "    .dataframe thead th {\n",
       "        text-align: right;\n",
       "    }\n",
       "</style>\n",
       "<table border=\"1\" class=\"dataframe\">\n",
       "  <thead>\n",
       "    <tr style=\"text-align: right;\">\n",
       "      <th></th>\n",
       "      <th>total_orders</th>\n",
       "      <th>total_items</th>\n",
       "      <th>total_sales</th>\n",
       "      <th>avg_order_value</th>\n",
       "    </tr>\n",
       "  </thead>\n",
       "  <tbody>\n",
       "    <tr>\n",
       "      <th>count</th>\n",
       "      <td>45733.000000</td>\n",
       "      <td>45733.00000</td>\n",
       "      <td>45733.000000</td>\n",
       "      <td>45733.000000</td>\n",
       "    </tr>\n",
       "    <tr>\n",
       "      <th>mean</th>\n",
       "      <td>2.191262</td>\n",
       "      <td>2.46321</td>\n",
       "      <td>346.435905</td>\n",
       "      <td>159.270901</td>\n",
       "    </tr>\n",
       "    <tr>\n",
       "      <th>std</th>\n",
       "      <td>3.310494</td>\n",
       "      <td>3.88143</td>\n",
       "      <td>673.306975</td>\n",
       "      <td>231.589079</td>\n",
       "    </tr>\n",
       "    <tr>\n",
       "      <th>min</th>\n",
       "      <td>1.000000</td>\n",
       "      <td>1.00000</td>\n",
       "      <td>9.590000</td>\n",
       "      <td>6.080000</td>\n",
       "    </tr>\n",
       "    <tr>\n",
       "      <th>25%</th>\n",
       "      <td>1.000000</td>\n",
       "      <td>1.00000</td>\n",
       "      <td>78.700000</td>\n",
       "      <td>58.100000</td>\n",
       "    </tr>\n",
       "    <tr>\n",
       "      <th>50%</th>\n",
       "      <td>1.000000</td>\n",
       "      <td>1.00000</td>\n",
       "      <td>159.100000</td>\n",
       "      <td>98.090000</td>\n",
       "    </tr>\n",
       "    <tr>\n",
       "      <th>75%</th>\n",
       "      <td>2.000000</td>\n",
       "      <td>2.00000</td>\n",
       "      <td>346.470000</td>\n",
       "      <td>170.695000</td>\n",
       "    </tr>\n",
       "    <tr>\n",
       "      <th>max</th>\n",
       "      <td>171.000000</td>\n",
       "      <td>216.00000</td>\n",
       "      <td>53672.510000</td>\n",
       "      <td>6929.310000</td>\n",
       "    </tr>\n",
       "  </tbody>\n",
       "</table>\n",
       "</div>"
      ],
      "text/plain": [
       "       total_orders  total_items   total_sales  avg_order_value\n",
       "count  45733.000000  45733.00000  45733.000000     45733.000000\n",
       "mean       2.191262      2.46321    346.435905       159.270901\n",
       "std        3.310494      3.88143    673.306975       231.589079\n",
       "min        1.000000      1.00000      9.590000         6.080000\n",
       "25%        1.000000      1.00000     78.700000        58.100000\n",
       "50%        1.000000      1.00000    159.100000        98.090000\n",
       "75%        2.000000      2.00000    346.470000       170.695000\n",
       "max      171.000000    216.00000  53672.510000      6929.310000"
      ]
     },
     "execution_count": 15,
     "metadata": {},
     "output_type": "execute_result"
    }
   ],
   "source": [
    "df[['total_orders', 'total_items', 'total_sales', 'avg_order_value']].describe()"
   ]
  },
  {
   "cell_type": "markdown",
   "id": "7beede99",
   "metadata": {},
   "source": [
    "Pada dataset e-commerce Olist, perbedaan karakteristik penjual sangat wajar terjadi. Misalnya:\n",
    "\n",
    "* **Seller A** menjual produk murah (contoh: aksesoris kecil), sehingga nilai `avg_order_value` dan `total_sales` relatif rendah.\n",
    "* **Seller B** menjual produk bernilai tinggi (contoh: furniture, elektronik), sehingga nilai `total_sales` jauh lebih besar.\n",
    "\n",
    "Perbedaan tersebut menghasilkan **outlier alami**, yang biasa terdapat pada platform e-commerce. Oleh karena itu, outlier tidak dihapus, melainkan ditangani dengan **transformasi skala** agar tidak mendominasi proses clustering.\n",
    "\n",
    "##### 1. Log Transform\n",
    "Metode pertama adalah **Log Transform** dengan rumus:\n",
    "\n",
    "$$\n",
    "x' = \\log(1 + x)\n",
    "$$\n",
    "\n",
    "Transformasi ini mengecilkan nilai yang sangat besar, sementara nilai kecil relatif tidak banyak berubah. Contoh:\n",
    "\n",
    "| total\\_sales | setelah log1p |\n",
    "| ------------ | ------------- |\n",
    "| 100          | 4.61          |\n",
    "| 500          | 6.22          |\n",
    "| 10.000       | 9.21          |\n",
    "| 50.000       | 10.82         |\n",
    "\n",
    "Dengan cara ini, variasi seller besar tetap terjaga, namun tidak lagi terlalu mendominasi.\n",
    "\n",
    "##### 2. Standard Scaler\n",
    "\n",
    "Setelah melakukan log transform, data biasanya masih memiliki **rentang skala yang berbeda-beda antar fitur**.\n",
    "Contoh:\n",
    "\n",
    "* `total_orders` bisa saja berkisar 1–200\n",
    "* `avg_order_value` (setelah log) bisa berkisar 4–11\n",
    "\n",
    "Perbedaan skala ini dapat membuat algoritma clustering seperti K-Means bias terhadap fitur dengan nilai lebih besar.\n",
    "Untuk itu digunakan **StandardScaler**, yang mengubah setiap fitur menjadi distribusi dengan **mean = 0** dan **standard deviation = 1**:\n",
    "\n",
    "$$\n",
    "z = \\frac{x - \\mu}{\\sigma}\n",
    "$$\n",
    "\n"
   ]
  },
  {
   "cell_type": "code",
   "execution_count": 16,
   "id": "d835a074",
   "metadata": {},
   "outputs": [
    {
     "data": {
      "image/png": "[encoded data removed]",
      "text/plain": [
       "<Figure size 1500x1000 with 4 Axes>"
      ]
     },
     "metadata": {},
     "output_type": "display_data"
    }
   ],
   "source": [
    "import matplotlib.pyplot as plt\n",
    "\n",
    "# Rawdata Distributed\n",
    "df[['total_orders', 'total_items', 'total_sales', 'avg_order_value']].hist(bins=50, figsize=(15, 10))\n",
    "plt.show()"
   ]
  },
  {
   "cell_type": "code",
   "execution_count": 17,
   "id": "c04d3c82",
   "metadata": {},
   "outputs": [
    {
     "data": {
      "image/png": "[encoded data removed]",
      "text/plain": [
       "<Figure size 1500x1000 with 4 Axes>"
      ]
     },
     "metadata": {},
     "output_type": "display_data"
    }
   ],
   "source": [
    "# After implement log1p Transformation\n",
    "log_data = np.log1p(df[['total_orders', 'total_items', 'total_sales', 'avg_order_value']])\n",
    "\n",
    "log_data.hist(bins=50, figsize=(15, 10))\n",
    "plt.show()\n"
   ]
  },
  {
   "cell_type": "code",
   "execution_count": 18,
   "id": "ed8e5d69",
   "metadata": {},
   "outputs": [
    {
     "name": "stdout",
     "output_type": "stream",
     "text": [
      "       total_orders  total_items   total_sales  avg_order_value\n",
      "count  45733.000000  45733.00000  45733.000000     45733.000000\n",
      "mean       2.191262      2.46321    346.435905       159.270901\n",
      "std        3.310494      3.88143    673.306975       231.589079\n",
      "min        1.000000      1.00000      9.590000         6.080000\n",
      "25%        1.000000      1.00000     78.700000        58.100000\n",
      "50%        1.000000      1.00000    159.100000        98.090000\n",
      "75%        2.000000      2.00000    346.470000       170.695000\n",
      "max      171.000000    216.00000  53672.510000      6929.310000\n"
     ]
    }
   ],
   "source": [
    "# Sebelum implement log transform\n",
    "print(df[['total_orders', 'total_items', 'total_sales', 'avg_order_value']].describe())"
   ]
  },
  {
   "cell_type": "code",
   "execution_count": 19,
   "id": "58d64b0d",
   "metadata": {},
   "outputs": [
    {
     "name": "stdout",
     "output_type": "stream",
     "text": [
      "       total_orders   total_items   total_sales  avg_order_value\n",
      "count  45733.000000  45733.000000  45733.000000     45733.000000\n",
      "mean       0.982351      1.037443      5.177256         4.665402\n",
      "std        0.488163      0.526758      1.072714         0.821660\n",
      "min        0.693147      0.693147      2.359910         1.957274\n",
      "25%        0.693147      0.693147      4.378270         4.079231\n",
      "50%        0.693147      0.693147      5.075799         4.596029\n",
      "75%        1.098612      1.098612      5.850678         5.145720\n",
      "max        5.147494      5.379897     10.890675         8.843660\n"
     ]
    }
   ],
   "source": [
    "# Sesudah implement log transform\n",
    "print(log_data[['total_orders', 'total_items', 'total_sales', 'avg_order_value']].describe())"
   ]
  },
  {
   "cell_type": "markdown",
   "id": "ce36efeb",
   "metadata": {},
   "source": [
    "### Set log data + selected features into csv"
   ]
  },
  {
   "cell_type": "code",
   "execution_count": 20,
   "id": "93bdb0ad",
   "metadata": {},
   "outputs": [],
   "source": [
    "import pandas as pd\n",
    "import numpy as np\n",
    "\n",
    "# Selected features \n",
    "selected_features = df[['seller_state', 'product_category_name']]\n",
    "\n",
    "df_feature = pd.concat([selected_features, log_data], axis=1)"
   ]
  },
  {
   "cell_type": "code",
   "execution_count": 21,
   "id": "d77d232e",
   "metadata": {},
   "outputs": [
    {
     "name": "stdout",
     "output_type": "stream",
     "text": [
      "      seller_state                           product_category_name  \\\n",
      "0               MG                                moveis_decoracao   \n",
      "1               PR                                       telefonia   \n",
      "2               PR                                    beleza_saude   \n",
      "3               SP                                           bebes   \n",
      "4               AC                                 livros_tecnicos   \n",
      "...            ...                                             ...   \n",
      "45728           SP                           utilidades_domesticas   \n",
      "45729           SP                              relogios_presentes   \n",
      "45730           SP                                      perfumaria   \n",
      "45731           SP                                   esporte_lazer   \n",
      "45732           SP  moveis_cozinha_area_de_servico_jantar_e_jardim   \n",
      "\n",
      "       total_orders  total_items  total_sales  avg_order_value  \n",
      "0          0.693147     1.098612     4.921658         4.235772  \n",
      "1          0.693147     0.693147     4.331523         4.331523  \n",
      "2          0.693147     1.386294     4.973003         3.888140  \n",
      "3          0.693147     0.693147     4.703567         4.703567  \n",
      "4          0.693147     0.693147     5.706579         5.706579  \n",
      "...             ...          ...          ...              ...  \n",
      "45728      0.693147     0.693147     4.279163         4.279163  \n",
      "45729      0.693147     0.693147     5.188781         5.188781  \n",
      "45730      0.693147     0.693147     4.484358         4.484358  \n",
      "45731      0.693147     1.386294     4.306360         3.234355  \n",
      "45732      0.693147     0.693147     5.120745         5.120745  \n",
      "\n",
      "[45733 rows x 6 columns]\n"
     ]
    }
   ],
   "source": [
    "print(df_feature)"
   ]
  },
  {
   "cell_type": "code",
   "execution_count": 22,
   "id": "f1aac077",
   "metadata": {},
   "outputs": [
    {
     "name": "stdout",
     "output_type": "stream",
     "text": [
      "       total_orders   total_items   total_sales  avg_order_value\n",
      "count  45733.000000  45733.000000  45733.000000     45733.000000\n",
      "mean       0.982351      1.037443      5.177256         4.665402\n",
      "std        0.488163      0.526758      1.072714         0.821660\n",
      "min        0.693147      0.693147      2.359910         1.957274\n",
      "25%        0.693147      0.693147      4.378270         4.079231\n",
      "50%        0.693147      0.693147      5.075799         4.596029\n",
      "75%        1.098612      1.098612      5.850678         5.145720\n",
      "max        5.147494      5.379897     10.890675         8.843660\n"
     ]
    }
   ],
   "source": [
    "print(df_feature.describe())"
   ]
  },
  {
   "cell_type": "code",
   "execution_count": 23,
   "id": "3dcc7ebc",
   "metadata": {},
   "outputs": [
    {
     "name": "stdout",
     "output_type": "stream",
     "text": [
      "f:\\Portofolio\\Olist-Ml\\notebooks\n"
     ]
    }
   ],
   "source": [
    "import os\n",
    "print(os.getcwd())\n",
    "\n",
    "df_feature.to_csv(\"../dataset/processed/state_cluster_data.csv\", index=False)"
   ]
  }
 ],
 "metadata": {
  "kernelspec": {
   "display_name": "Python (venv Warehousing)",
   "language": "python",
   "name": "venv"
  },
  "language_info": {
   "codemirror_mode": {
    "name": "ipython",
    "version": 3
   },
   "file_extension": ".py",
   "mimetype": "text/x-python",
   "name": "python",
   "nbconvert_exporter": "python",
   "pygments_lexer": "ipython3",
   "version": "3.10.7"
  }
 },
 "nbformat": 4,
 "nbformat_minor": 5
}
