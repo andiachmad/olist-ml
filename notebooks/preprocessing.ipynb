{
 "cells": [
  {
   "cell_type": "code",
   "execution_count": 2,
   "id": "3191cc35",
   "metadata": {},
   "outputs": [],
   "source": [
    "import pandas as pd"
   ]
  },
  {
   "cell_type": "markdown",
   "id": "2cc26231",
   "metadata": {},
   "source": [
    "### Declare Dataset"
   ]
  },
  {
   "cell_type": "code",
   "execution_count": 5,
   "id": "d05f135b",
   "metadata": {},
   "outputs": [],
   "source": [
    "df = pd.read_csv(\"F:/Portofolio/Olist-Ml/dataset/raw/mart_sales_performance.csv\")"
   ]
  },
  {
   "cell_type": "code",
   "execution_count": 8,
   "id": "351dd39d",
   "metadata": {},
   "outputs": [
    {
     "data": {
      "text/html": [
       "<div>\n",
       "<style scoped>\n",
       "    .dataframe tbody tr th:only-of-type {\n",
       "        vertical-align: middle;\n",
       "    }\n",
       "\n",
       "    .dataframe tbody tr th {\n",
       "        vertical-align: top;\n",
       "    }\n",
       "\n",
       "    .dataframe thead th {\n",
       "        text-align: right;\n",
       "    }\n",
       "</style>\n",
       "<table border=\"1\" class=\"dataframe\">\n",
       "  <thead>\n",
       "    <tr style=\"text-align: right;\">\n",
       "      <th></th>\n",
       "      <th>product_category_name</th>\n",
       "      <th>seller_id</th>\n",
       "      <th>seller_state</th>\n",
       "      <th>seller_city</th>\n",
       "      <th>week_start</th>\n",
       "      <th>total_orders</th>\n",
       "      <th>total_items</th>\n",
       "      <th>total_sales</th>\n",
       "      <th>avg_order_value</th>\n",
       "    </tr>\n",
       "  </thead>\n",
       "  <tbody>\n",
       "    <tr>\n",
       "      <th>0</th>\n",
       "      <td>moveis_decoracao</td>\n",
       "      <td>1554a68530182680ad5c8b042c3ab563</td>\n",
       "      <td>MG</td>\n",
       "      <td>monte siao</td>\n",
       "      <td>2016-08-29 00:00:00.000</td>\n",
       "      <td>1</td>\n",
       "      <td>2</td>\n",
       "      <td>136.23</td>\n",
       "      <td>68.115</td>\n",
       "    </tr>\n",
       "    <tr>\n",
       "      <th>1</th>\n",
       "      <td>telefonia</td>\n",
       "      <td>a425f92c199eb576938df686728acd20</td>\n",
       "      <td>PR</td>\n",
       "      <td>curitiba</td>\n",
       "      <td>2016-09-05 00:00:00.000</td>\n",
       "      <td>1</td>\n",
       "      <td>1</td>\n",
       "      <td>75.06</td>\n",
       "      <td>75.060</td>\n",
       "    </tr>\n",
       "    <tr>\n",
       "      <th>2</th>\n",
       "      <td>beleza_saude</td>\n",
       "      <td>ecccfa2bb93b34a3bf033cc5d1dcdc69</td>\n",
       "      <td>PR</td>\n",
       "      <td>curitiba</td>\n",
       "      <td>2016-09-12 00:00:00.000</td>\n",
       "      <td>1</td>\n",
       "      <td>3</td>\n",
       "      <td>143.46</td>\n",
       "      <td>47.820</td>\n",
       "    </tr>\n",
       "    <tr>\n",
       "      <th>3</th>\n",
       "      <td>bebes</td>\n",
       "      <td>25e6ffe976bd75618accfe16cefcbd0d</td>\n",
       "      <td>SP</td>\n",
       "      <td>sao paulo</td>\n",
       "      <td>2016-09-26 00:00:00.000</td>\n",
       "      <td>1</td>\n",
       "      <td>1</td>\n",
       "      <td>109.34</td>\n",
       "      <td>109.340</td>\n",
       "    </tr>\n",
       "    <tr>\n",
       "      <th>4</th>\n",
       "      <td>livros_tecnicos</td>\n",
       "      <td>4be2e7f96b4fd749d52dff41f80e39dd</td>\n",
       "      <td>AC</td>\n",
       "      <td>rio branco</td>\n",
       "      <td>2016-10-03 00:00:00.000</td>\n",
       "      <td>1</td>\n",
       "      <td>1</td>\n",
       "      <td>299.84</td>\n",
       "      <td>299.840</td>\n",
       "    </tr>\n",
       "  </tbody>\n",
       "</table>\n",
       "</div>"
      ],
      "text/plain": [
       "  product_category_name                         seller_id seller_state  \\\n",
       "0      moveis_decoracao  1554a68530182680ad5c8b042c3ab563           MG   \n",
       "1             telefonia  a425f92c199eb576938df686728acd20           PR   \n",
       "2          beleza_saude  ecccfa2bb93b34a3bf033cc5d1dcdc69           PR   \n",
       "3                 bebes  25e6ffe976bd75618accfe16cefcbd0d           SP   \n",
       "4       livros_tecnicos  4be2e7f96b4fd749d52dff41f80e39dd           AC   \n",
       "\n",
       "  seller_city               week_start  total_orders  total_items  \\\n",
       "0  monte siao  2016-08-29 00:00:00.000             1            2   \n",
       "1    curitiba  2016-09-05 00:00:00.000             1            1   \n",
       "2    curitiba  2016-09-12 00:00:00.000             1            3   \n",
       "3   sao paulo  2016-09-26 00:00:00.000             1            1   \n",
       "4  rio branco  2016-10-03 00:00:00.000             1            1   \n",
       "\n",
       "   total_sales  avg_order_value  \n",
       "0       136.23           68.115  \n",
       "1        75.06           75.060  \n",
       "2       143.46           47.820  \n",
       "3       109.34          109.340  \n",
       "4       299.84          299.840  "
      ]
     },
     "execution_count": 8,
     "metadata": {},
     "output_type": "execute_result"
    }
   ],
   "source": [
    "df.head()"
   ]
  },
  {
   "cell_type": "code",
   "execution_count": 9,
   "id": "86738cea",
   "metadata": {},
   "outputs": [
    {
     "name": "stdout",
     "output_type": "stream",
     "text": [
      "<class 'pandas.core.frame.DataFrame'>\n",
      "RangeIndex: 45733 entries, 0 to 45732\n",
      "Data columns (total 9 columns):\n",
      " #   Column                 Non-Null Count  Dtype  \n",
      "---  ------                 --------------  -----  \n",
      " 0   product_category_name  45733 non-null  object \n",
      " 1   seller_id              45733 non-null  object \n",
      " 2   seller_state           45733 non-null  object \n",
      " 3   seller_city            45733 non-null  object \n",
      " 4   week_start             45733 non-null  object \n",
      " 5   total_orders           45733 non-null  int64  \n",
      " 6   total_items            45733 non-null  int64  \n",
      " 7   total_sales            45733 non-null  float64\n",
      " 8   avg_order_value        45733 non-null  float64\n",
      "dtypes: float64(2), int64(2), object(5)\n",
      "memory usage: 3.1+ MB\n"
     ]
    }
   ],
   "source": [
    "df.info()"
   ]
  },
  {
   "cell_type": "markdown",
   "id": "cb570ef5",
   "metadata": {},
   "source": [
    "### Preprocessing Stage"
   ]
  }
 ],
 "metadata": {
  "kernelspec": {
   "display_name": "Python (venv Warehousing)",
   "language": "python",
   "name": "venv"
  },
  "language_info": {
   "codemirror_mode": {
    "name": "ipython",
    "version": 3
   },
   "file_extension": ".py",
   "mimetype": "text/x-python",
   "name": "python",
   "nbconvert_exporter": "python",
   "pygments_lexer": "ipython3",
   "version": "3.10.7"
  }
 },
 "nbformat": 4,
 "nbformat_minor": 5
}
